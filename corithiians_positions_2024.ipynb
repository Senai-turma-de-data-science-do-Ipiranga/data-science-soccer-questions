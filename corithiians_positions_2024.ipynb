{
 "cells": [
  {
   "cell_type": "markdown",
   "metadata": {},
   "source": [
    "# General\n",
    "\n",
    "First of all we need to import Pandas"
   ]
  },
  {
   "cell_type": "code",
   "execution_count": 23,
   "metadata": {},
   "outputs": [],
   "source": [
    "import pandas as pd"
   ]
  },
  {
   "cell_type": "markdown",
   "metadata": {},
   "source": [
    "Now we need to open the CSV"
   ]
  },
  {
   "cell_type": "code",
   "execution_count": 24,
   "metadata": {},
   "outputs": [],
   "source": [
    "dataframe = pd.read_csv(\"mundo_transfermarkt_competicoes_brasileirao_serie_a.csv\")"
   ]
  },
  {
   "cell_type": "markdown",
   "metadata": {},
   "source": [
    "Now we need to filter the Corinthians games"
   ]
  },
  {
   "cell_type": "code",
   "execution_count": 31,
   "metadata": {},
   "outputs": [
    {
     "name": "stdout",
     "output_type": "stream",
     "text": [
      "(13, 35)\n",
      "(13, 35)\n",
      "(26, 35)\n"
     ]
    }
   ],
   "source": [
    "corinthians_games_home = dataframe.loc[dataframe['time_mandante'] == 'Corinthians']\n",
    "corinthians_games_away = dataframe.loc[dataframe['time_visitante'] == 'Corinthians']\n",
    "\n",
    "\n",
    "corinthians_games_home_2024 = corinthians_games_home.loc[corinthians_games_home['ano_campeonato'] == 2024]\n",
    "corinthians_games_away_2024 = corinthians_games_away.loc[corinthians_games_away['ano_campeonato'] == 2024] \n",
    "\n",
    "corinthians_games_2024 = corinthians_games_home_2024 + corinthians_games_away_2024\n",
    "\n",
    "print(corinthians_games_home_2024.shape)\n",
    "print(corinthians_games_away_2024.shape)\n",
    "print(corinthians_games_2024.shape)"
   ]
  }
 ],
 "metadata": {
  "kernelspec": {
   "display_name": "usr",
   "language": "python",
   "name": "python3"
  },
  "language_info": {
   "codemirror_mode": {
    "name": "ipython",
    "version": 3
   },
   "file_extension": ".py",
   "mimetype": "text/x-python",
   "name": "python",
   "nbconvert_exporter": "python",
   "pygments_lexer": "ipython3",
   "version": "3.8.5"
  }
 },
 "nbformat": 4,
 "nbformat_minor": 2
}
